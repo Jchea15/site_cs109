{
 "cells": [
  {
   "cell_type": "code",
   "execution_count": 1,
   "metadata": {},
   "outputs": [
    {
     "name": "stdout",
     "output_type": "stream",
     "text": [
      "/Users/Leah/Desktop/CS109/Data\n"
     ]
    }
   ],
   "source": [
    "cd ~/Desktop/CS109/Data"
   ]
  },
  {
   "cell_type": "code",
   "execution_count": 2,
   "metadata": {
    "collapsed": true
   },
   "outputs": [],
   "source": [
    "import numpy as np\n",
    "import pandas as pd\n",
    "import matplotlib\n",
    "import matplotlib.pyplot as plt\n",
    "%matplotlib inline\n",
    "import copy\n",
    "from itertools import product\n",
    "pd.options.display.max_columns\n",
    "from matplotlib.ticker import ScalarFormatter"
   ]
  },
  {
   "cell_type": "code",
   "execution_count": 3,
   "metadata": {
    "collapsed": true
   },
   "outputs": [],
   "source": [
    "# read in ADNIMERGE.csv where protocol is ADNI2\n",
    "ADNIMERGE = pd.read_csv('ADNIMERGE.csv')\n",
    "ADNIMERGE = ADNIMERGE[ADNIMERGE['COLPROT'] == 'ADNI2']\n",
    "ADNIMERGE = ADNIMERGE.set_index('PTID')\n",
    "\n",
    "# Read in gene expression data\n",
    "GENE_EXPRESSION = pd.read_csv('ADNI_Gene_Expression_Profile/ADNI_Gene_Expression_Profile.csv', low_memory=False, index_col=0, header=2)\n",
    "GENE_EXPRESSION = GENE_EXPRESSION[6:]\n",
    "GENE_EXPRESSION = GENE_EXPRESSION.rename(columns={GENE_EXPRESSION.columns[0]: 'ProbeSet', GENE_EXPRESSION.columns[1]: 'LocusLink'})\n",
    "GENE_EXPRESSION = GENE_EXPRESSION.transpose()\n",
    "\n",
    "# Save gene expression data and info on genes separately\n",
    "GENE_EXPRESSION_DATA = GENE_EXPRESSION[2:]\n",
    "GENE_EXPRESSION_GENE_INFO = GENE_EXPRESSION[:2]\n",
    "GENE_EXPRESSION_GENE_INFO.columns = GENE_EXPRESSION_GENE_INFO.columns.values\n",
    "\n",
    "# write info on how genes are stored to csv\n",
    "GENE_EXPRESSION_GENE_INFO.to_csv('GENE_EXPRESSION_GENE_INFO.csv')\n",
    "\n",
    "# data about patient and collection of gene expression data\n",
    "GENE_EXPRESSION_head = pd.read_csv('ADNI_Gene_Expression_Profile/ADNI_Gene_Expression_Profile.csv', low_memory=False, nrows=8, header=None)\n",
    "GENE_EXPRESSION_head.columns = GENE_EXPRESSION_head.iloc[2].values\n",
    "GENE_EXPRESSION_head = GENE_EXPRESSION_head.transpose()\n",
    "GENE_EXPRESSION_head.columns = GENE_EXPRESSION_head.iloc[0]\n",
    "GENE_EXPRESSION_head = GENE_EXPRESSION_head[3:]\n",
    "GENE_EXPRESSION_head = GENE_EXPRESSION_head.drop(['SubjectID'], axis=1)\n",
    "\n",
    "# join gene expression data to gene expression data collection information\n",
    "GENE_EXPRESSION_MERGE = GENE_EXPRESSION_head\n",
    "GENE_EXPRESSION_MERGE = GENE_EXPRESSION_MERGE.join(GENE_EXPRESSION_DATA)\n",
    "GENE_EXPRESSION_MERGE = GENE_EXPRESSION_MERGE[GENE_EXPRESSION_MERGE['Phase'] == 'ADNI2']\n",
    "\n",
    "# join ADNIMERGE data to gene expression data\n",
    "GENE_EXPRESSION_MERGE = GENE_EXPRESSION_MERGE.join(ADNIMERGE)\n",
    "\n",
    "# create new index so don't index using SubjectID\n",
    "GENE_EXPRESSION_MERGE.reset_index(inplace=True)\n",
    "GENE_EXPRESSION_MERGE = GENE_EXPRESSION_MERGE.rename(columns={'index': 'SubjectID'})\n",
    "\n"
   ]
  },
  {
   "cell_type": "code",
   "execution_count": 4,
   "metadata": {},
   "outputs": [
    {
     "name": "stderr",
     "output_type": "stream",
     "text": [
      "/anaconda/lib/python3.6/site-packages/ipykernel_launcher.py:4: SettingWithCopyWarning: \n",
      "A value is trying to be set on a copy of a slice from a DataFrame.\n",
      "Try using .loc[row_indexer,col_indexer] = value instead\n",
      "\n",
      "See the caveats in the documentation: http://pandas.pydata.org/pandas-docs/stable/indexing.html#indexing-view-versus-copy\n",
      "  after removing the cwd from sys.path.\n"
     ]
    },
    {
     "name": "stdout",
     "output_type": "stream",
     "text": [
      "SubjectID\t\tVisit-type\n"
     ]
    },
    {
     "name": "stderr",
     "output_type": "stream",
     "text": [
      "/anaconda/lib/python3.6/site-packages/ipykernel_launcher.py:20: SettingWithCopyWarning: \n",
      "A value is trying to be set on a copy of a slice from a DataFrame.\n",
      "Try using .loc[row_indexer,col_indexer] = value instead\n",
      "\n",
      "See the caveats in the documentation: http://pandas.pydata.org/pandas-docs/stable/indexing.html#indexing-view-versus-copy\n"
     ]
    }
   ],
   "source": [
    "# just collect info about visits\n",
    "GENE_EXPRESSION_VISITS = GENE_EXPRESSION_MERGE[['Visit', 'YearofCollection', 'VISCODE', 'EXAMDATE', 'EXAMDATE_bl']]\n",
    "# convert datatypes to datetime\n",
    "GENE_EXPRESSION_VISITS['EXAMDATE'] =pd.to_datetime(GENE_EXPRESSION_VISITS.EXAMDATE)\n",
    "\n",
    "# have only one row per patient. cog tests of visit where expression data taken\n",
    "# get longitudinal data on diagnosis (first, final, and when each)\n",
    "\n",
    "unique_IDs = GENE_EXPRESSION_MERGE.SubjectID.unique()\n",
    "first_visit_list = []\n",
    "first_date_list = []\n",
    "final_visit_list = []\n",
    "final_date_list = []\n",
    "\n",
    "GENE_EXPRESSION_UNIQUE_VISITS = pd.DataFrame()\n",
    "temp_list = []\n",
    "print('SubjectID\\t\\tVisit-type')\n",
    "for ID in unique_IDs:\n",
    "    ALL_VISITS = GENE_EXPRESSION_MERGE.loc[GENE_EXPRESSION_MERGE['SubjectID'] == ID]\n",
    "    ALL_VISITS['EXAMDATE'] = pd.to_datetime(ALL_VISITS.EXAMDATE)\n",
    "    SORTED = ALL_VISITS.sort_values('EXAMDATE')\n",
    "    VISITID = ALL_VISITS.Visit.iloc[0]\n",
    "    if VISITID == 'v03':\n",
    "        temp_list.append(ALL_VISITS.loc[ALL_VISITS['VISCODE'] == 'bl'])\n",
    "    elif VISITID == 'v06':\n",
    "        temp_list.append(SORTED.iloc[[0]])\n",
    "    elif VISITID == 'v11':\n",
    "        code = SORTED.iloc[[0]].VISCODE.values[0]\n",
    "        if code == 'bl':\n",
    "            new_code = 'm12'\n",
    "        else:\n",
    "            new_code = 'm' + str(int(code[1:]) + 12)\n",
    "        if ALL_VISITS.loc[ALL_VISITS['VISCODE'] == new_code].empty == True:\n",
    "            print(ALL_VISITS[['SubjectID', 'Visit', 'YearofCollection', 'VISCODE', 'EXAMDATE', 'EXAMDATE_bl']])\n",
    "        temp_list.append(ALL_VISITS.loc[ALL_VISITS['VISCODE'] == new_code])\n",
    "    elif VISITID == 'v04':\n",
    "        temp_list.append(ALL_VISITS.loc[ALL_VISITS['VISCODE'] == 'm03'])\n",
    "    elif VISITID == 'v05':\n",
    "        temp_list.append(ALL_VISITS.loc[ALL_VISITS['VISCODE'] == 'm06'])\n",
    "    elif VISITID == 'v02':\n",
    "        # only one case\\\n",
    "        temp_list.append(ALL_VISITS)\n",
    "    else:\n",
    "        print('{0}\\t\\t{1}'.format(ID, VISITID))\n",
    "    \n",
    "    index = 0\n",
    "    first_visit = SORTED.iloc[[index]]\n",
    "    first_DX = first_visit['DX'].values[0]\n",
    "    first_date = first_visit['EXAMDATE'].values[0]\n",
    "    #print('initial first DX is: ', first_DX)\n",
    "    while first_visit.DX.isnull().values.any() == True:\n",
    "        if index > len(SORTED.index) - 1:\n",
    "            break\n",
    "        index += 1\n",
    "        first_visit = SORTED.iloc[[index]]\n",
    "        first_DX = first_visit['DX'].values[0]\n",
    "        first_date = first_visit['EXAMDATE'].values[0]\n",
    "        #print('For subject {0}, index is {1} and DX is {2}'.format(ID, index, first_DX))\n",
    "    first_visit_list.append(first_DX)\n",
    "    first_date_list.append(first_date)\n",
    "    \n",
    "    index = len(SORTED.index) - 1\n",
    "    final_visit = SORTED.iloc[[index]]\n",
    "    final_DX = final_visit['DX'].values[0]\n",
    "    final_date = final_visit['EXAMDATE'].values[0]\n",
    "    #print('initial final DX is: ', final_DX)\n",
    "    while final_visit.DX.isnull().values.any() == True:\n",
    "        if index < 0:\n",
    "            break\n",
    "        index -= 1\n",
    "        final_visit = SORTED.iloc[[index]]\n",
    "        final_DX = final_visit['DX'].values[0]\n",
    "        final_date = final_visit['EXAMDATE'].values[0]\n",
    "        #print('For subject {0}, index is {1} and DX is {2}'.format(ID, index, final_DX))\n",
    "    final_visit_list.append(final_DX)\n",
    "    final_date_list.append(final_date)\n",
    "    \n",
    "GENE_EXPRESSION_UNIQUE_VISITS = pd.concat(temp_list)\n",
    "GENE_EXPRESSION_UNIQUE_VISITS['First_DX'] = first_visit_list\n",
    "GENE_EXPRESSION_UNIQUE_VISITS['First_date'] = first_date_list\n",
    "GENE_EXPRESSION_UNIQUE_VISITS['Final_DX'] = final_visit_list\n",
    "GENE_EXPRESSION_UNIQUE_VISITS['Final_date'] = final_date_list\n",
    "GENE_EXPRESSION_UNIQUE_VISITS['First_Delta_Time'] = (GENE_EXPRESSION_UNIQUE_VISITS.EXAMDATE-GENE_EXPRESSION_UNIQUE_VISITS.First_date).astype('timedelta64[D]')\n",
    "GENE_EXPRESSION_UNIQUE_VISITS['Final_Delta_Time'] = (GENE_EXPRESSION_UNIQUE_VISITS.Final_date-GENE_EXPRESSION_UNIQUE_VISITS.EXAMDATE).astype('timedelta64[D]')"
   ]
  },
  {
   "cell_type": "code",
   "execution_count": 5,
   "metadata": {
    "collapsed": true
   },
   "outputs": [],
   "source": [
    "# convert numbers to floats\n",
    "TEMP = GENE_EXPRESSION_UNIQUE_VISITS.iloc[:,:8]\n",
    "TEMP = TEMP.join(GENE_EXPRESSION_UNIQUE_VISITS.iloc[:,49394:])\n",
    "GENE_EXPRESSION_UNIQUE_VISITS = GENE_EXPRESSION_UNIQUE_VISITS.iloc[:,8:49394].astype('float64', copy=True)\n",
    "GENE_EXPRESSION_UNIQUE_VISITS = GENE_EXPRESSION_UNIQUE_VISITS.join(TEMP)\n",
    "\n",
    "# convert types of columns as necessary\n",
    "GENE_EXPRESSION_UNIQUE_VISITS.iloc[:,49445] = pd.to_datetime(GENE_EXPRESSION_UNIQUE_VISITS.iloc[:,49445])\n",
    "GENE_EXPRESSION_UNIQUE_VISITS.iloc[:,49399] = pd.to_datetime(GENE_EXPRESSION_UNIQUE_VISITS.iloc[:,49399])\n",
    "GENE_EXPRESSION_UNIQUE_VISITS.iloc[:,49389:49392] = GENE_EXPRESSION_UNIQUE_VISITS.iloc[:,49389:49392].astype('float64', copy=True)\n",
    "GENE_EXPRESSION_UNIQUE_VISITS.iloc[:,49392:49394] = GENE_EXPRESSION_UNIQUE_VISITS.iloc[:,49392:49394].astype('int64', copy=True)\n",
    "\n",
    "# convert DX and Final_DX values to numbers for logistic classification\n",
    "cleanup_nums = {'DX':     {'CN': 0, 'MCI': 1, 'Dementia': 2},\n",
    "                'First_DX': {'CN': 0, 'MCI': 1, 'Dementia': 2},\n",
    "                'Final_DX': {'CN': 0, 'MCI': 1, 'Dementia': 2}}\n",
    "GENE_EXPRESSION_UNIQUE_VISITS.replace(cleanup_nums, inplace=True)"
   ]
  },
  {
   "cell_type": "code",
   "execution_count": 6,
   "metadata": {
    "collapsed": true
   },
   "outputs": [],
   "source": [
    "GENE_EXPRESSION_UNIQUE_VISITS.to_csv('gene_expression_unique.csv')"
   ]
  },
  {
   "cell_type": "code",
   "execution_count": 7,
   "metadata": {},
   "outputs": [
    {
     "data": {
      "image/png": "[encoded data removed]",
      "text/plain": [
       "<matplotlib.figure.Figure at 0x113db6390>"
      ]
     },
     "metadata": {},
     "output_type": "display_data"
    }
   ],
   "source": [
    "meetings_count = GENE_EXPRESSION_UNIQUE_VISITS.groupby(['First_Delta_Time']).size()\n",
    "objects = list(meetings_count.index)\n",
    "y_pos = np.arange(len(objects))\n",
    "objects = list(map(int, objects))\n",
    "performance = list(meetings_count.values)\n",
    "\n",
    "\n",
    "fig, ax = plt.subplots(nrows=1, ncols=1, figsize=(15,5))\n",
    "ax.bar(y_pos, performance, align='center', alpha=0.5)\n",
    "bars = ax.patches\n",
    "plt.xticks(y_pos, objects)\n",
    "ax.set_ylabel('Incidence')\n",
    "ax.set_yscale('log')\n",
    "ax.yaxis.set_major_formatter(ScalarFormatter())\n",
    "ax.set_xlabel('Days between First_DX visit and DX visit')\n",
    "ax.set_title('Days between First_DX and DX')\n",
    "for bar, count in zip(bars, performance):\n",
    "    height = bar.get_height()\n",
    "    ax.text(bar.get_x() + bar.get_width()/2, height*1.0005, count, ha = 'center', va = 'bottom', fontsize = 10)\n",
    "    \n"
   ]
  },
  {
   "cell_type": "code",
   "execution_count": null,
   "metadata": {
    "collapsed": true
   },
   "outputs": [],
   "source": []
  }
 ],
 "metadata": {
  "kernelspec": {
   "display_name": "Python 3",
   "language": "python",
   "name": "python3"
  },
  "language_info": {
   "codemirror_mode": {
    "name": "ipython",
    "version": 3
   },
   "file_extension": ".py",
   "mimetype": "text/x-python",
   "name": "python",
   "nbconvert_exporter": "python",
   "pygments_lexer": "ipython3",
   "version": "3.6.1"
  }
 },
 "nbformat": 4,
 "nbformat_minor": 2
}
