{
 "cells": [
  {
   "cell_type": "code",
   "execution_count": 1,
   "metadata": {},
   "outputs": [
    {
     "name": "stdout",
     "output_type": "stream",
     "text": [
      "/Users/Nick/Desktop/proj_cs109/Data\n"
     ]
    }
   ],
   "source": [
    "cd ~/Desktop/proj_cs109/Data"
   ]
  },
  {
   "cell_type": "code",
   "execution_count": 2,
   "metadata": {
    "collapsed": true
   },
   "outputs": [],
   "source": [
    "%matplotlib inline\n",
    "import pandas as pd\n",
    "import numpy as np\n",
    "import matplotlib\n",
    "import matplotlib.pyplot as plt\n",
    "import sys\n",
    "from sklearn.linear_model import LogisticRegressionCV\n",
    "from sklearn.linear_model import LinearRegression\n",
    "from sklearn.linear_model import LassoCV\n",
    "from sklearn.linear_model import RidgeCV\n",
    "from sklearn.metrics import accuracy_score\n",
    "from sklearn.metrics import roc_auc_score\n",
    "from numpy.random import randint\n",
    "from sklearn.metrics import mean_squared_error\n",
    "import seaborn as sns\n",
    "import sklearn.metrics as metrics\n",
    "from sklearn.metrics import r2_score\n",
    "import scipy.stats\n",
    "from sklearn.metrics import auc\n",
    "from sklearn.preprocessing import PolynomialFeatures"
   ]
  },
  {
   "cell_type": "code",
   "execution_count": 3,
   "metadata": {},
   "outputs": [],
   "source": [
    "#read in imputed data\n",
    "df_full = pd.read_csv('post_imputation.csv', index_col = 0)"
   ]
  },
  {
   "cell_type": "code",
   "execution_count": 4,
   "metadata": {
    "scrolled": true
   },
   "outputs": [],
   "source": [
    "#drop non-cognitive tests/non-gene expression data\n",
    "df_full = df_full.drop(['SubjectID', 'Phase', 'Visit',\n",
    "       '260/280', '260/230', 'RIN', 'Affy Plate', 'YearofCollection', 'RID',\n",
    "       'VISCODE', 'SITE', 'COLPROT', 'ORIGPROT', 'EXAMDATE', 'DX_bl', 'AGE',\n",
    "       'PTGENDER', 'PTEDUCAT', 'PTETHCAT', 'PTRACCAT', 'PTMARRY',\n",
    "       'Years_bl', 'Month_bl', 'Month', 'M', 'update_stamp'], axis = 1)\n",
    "\n",
    "#remove those whose mental state deteriorated or improved\n",
    "df_full = df_full[df_full['DX_Final_Progression'] == 0]"
   ]
  },
  {
   "cell_type": "code",
   "execution_count": 5,
   "metadata": {
    "collapsed": true
   },
   "outputs": [],
   "source": [
    "#define cognitive tests columns\n",
    "cog_tests = ['ADAS11', 'ADAS13', 'MMSE', 'FAQ', 'MOCA', 'EcogSPMem', 'EcogSPLang',\n",
    "       'EcogSPVisspat', 'EcogSPPlan', 'EcogSPOrgan', 'EcogSPDivatt',\n",
    "       'EcogSPTotal', 'DX', 'Final_DX']"
   ]
  },
  {
   "cell_type": "code",
   "execution_count": 6,
   "metadata": {
    "collapsed": true
   },
   "outputs": [],
   "source": [
    "#define gene expression data\n",
    "X_full = df_full.iloc[:,14:49400]"
   ]
  },
  {
   "cell_type": "code",
   "execution_count": 7,
   "metadata": {
    "collapsed": true
   },
   "outputs": [],
   "source": [
    "#status checker\n",
    "def for_loop_status(length, index = 0):\n",
    "    sys.stdout.write('\\r%f%%' % ((index/length)*100))\n",
    "    sys.stdout.flush()\n",
    "    index += 1\n",
    "    return(index)"
   ]
  },
  {
   "cell_type": "code",
   "execution_count": 8,
   "metadata": {
    "collapsed": true
   },
   "outputs": [],
   "source": [
    "#load gene expression data into a dataframe\n",
    "gene_corr_df = pd.DataFrame(columns = df_full.columns[14:49400])"
   ]
  },
  {
   "cell_type": "code",
   "execution_count": 9,
   "metadata": {},
   "outputs": [
    {
     "name": "stdout",
     "output_type": "stream",
     "text": [
      "ADAS11 1\n",
      "100.000000%ADAS13 1\n",
      "100.000000%ADAS13 2\n",
      "100.000000%FAQ 1\n",
      "100.000000%MOCA 2\n",
      "100.000000%EcogSPMem 1\n",
      "100.000000%EcogSPMem 2\n",
      "100.000000%EcogSPLang 1\n",
      "100.000000%EcogSPLang 2\n",
      "100.000000%EcogSPVisspat 2\n",
      "100.000000%EcogSPPlan 1\n",
      "100.000000%EcogSPPlan 2\n",
      "100.000000%EcogSPOrgan 2\n",
      "100.000000%EcogSPDivatt 2\n",
      "100.000000%EcogSPTotal 1\n",
      "100.000000%EcogSPTotal 2\n",
      "100.000000%DX 1\n",
      "100.000000%DX 2\n",
      "100.000000%Final_DX 1\n",
      "99.763086%"
     ]
    }
   ],
   "source": [
    "#preallocate arrays for correaltions\n",
    "gene_corr_base_df = np.empty([49386,1])\n",
    "gene_corr_cut_df = np.empty([49386,1])\n",
    "gene_corr_p_df = np.empty([49386,1])\n",
    "\n",
    "# split into train and test\n",
    "np.random.seed(9001)\n",
    "msk = np.random.rand(len(df_full)) < 0.5\n",
    "df_train = df_full[msk]\n",
    "df_test = df_full[~msk]\n",
    "\n",
    "#define train and test set\n",
    "X_train = df_train.iloc[:,14:49400]\n",
    "X_test = df_test.iloc[:,14:49400]\n",
    "\n",
    "#prepare t test\n",
    "z_l = scipy.stats.t.ppf(0.025, df = 49383)\n",
    "z_u = scipy.stats.t.ppf(0.975, df = 49383)\n",
    "                           \n",
    "#define gene columns\n",
    "gene_cols = X_full.columns\n",
    "\n",
    "#get correlation data of each gene with each cognitive test\n",
    "for cog in cog_tests:\n",
    "    y_train = df_train[cog]\n",
    "    y_test = df_test[cog]\n",
    "    \n",
    "    # compute correlations of cognitive tests with all genes\n",
    "    gene_corr_base = []\n",
    "    gene_corr_cut = []\n",
    "    gene_corr_p = []\n",
    "    length = len(gene_cols) - 1\n",
    "    \n",
    "    #status check\n",
    "    print(cog, 1)\n",
    "    index = 0\n",
    "    for gene in gene_cols:\n",
    "        gene_corr_base.append(X_full[gene].corr(df_full[cog]))\n",
    "        index = for_loop_status(length, index)\n",
    "\n",
    "    # compute critical values\n",
    "    mean = np.mean(gene_corr_base)\n",
    "    std = np.std(gene_corr_base)\n",
    "    c_l = mean + z_l*std\n",
    "    c_u = mean + z_u*std\n",
    "    \n",
    "    #status check\n",
    "    print(cog, 2)\n",
    "    index = 0\n",
    "    \n",
    "    #ASK LEAH\n",
    "    for gene in gene_cols:\n",
    "        corr = gene_corr_base[index]\n",
    "        significance = scipy.stats.norm.cdf(-abs(corr)/std)\n",
    "        gene_corr_base[index] = abs(corr)\n",
    "        if corr > c_l and corr < c_u:\n",
    "            corr = 0\n",
    "        gene_corr_cut.append(abs(corr))\n",
    "        gene_corr_p.append(significance)\n",
    "        index = for_loop_status(length, index)\n",
    "\n",
    "    # store correlation data in dataframe\n",
    "    gene_corr_base_df = np.column_stack((gene_corr_base_df, gene_corr_base))\n",
    "    gene_corr_cut_df = np.column_stack((gene_corr_cut_df, gene_corr_cut))\n",
    "    gene_corr_p_df = np.column_stack((gene_corr_p_df, gene_corr_p))"
   ]
  },
  {
   "cell_type": "code",
   "execution_count": 10,
   "metadata": {
    "collapsed": true
   },
   "outputs": [],
   "source": [
    "#sum correlations\n",
    "backup_p = gene_corr_p_df.sum(axis=1)\n",
    "backup_cut = gene_corr_cut_df.sum(axis=1)\n",
    "backup_corr = gene_corr_base_df.sum(axis=1)"
   ]
  },
  {
   "cell_type": "code",
   "execution_count": 11,
   "metadata": {
    "collapsed": true
   },
   "outputs": [],
   "source": [
    "#export CSVs\n",
    "np.savetxt(\"gene_corr_base.csv\", backup_corr, delimiter=\",\")\n",
    "np.savetxt(\"gene_corr_cut.csv\", backup_cut, delimiter=\",\")\n",
    "np.savetxt(\"gene_corr_p.csv\", backup_p, delimiter=\",\")\n",
    "np.savetxt(\"gene_corr_base_raw.csv\", gene_corr_base_df, delimiter=\",\")\n",
    "np.savetxt(\"gene_corr_cut_raw.csv\", gene_corr_cut_df, delimiter=\",\")\n",
    "np.savetxt(\"gene_corr_p_df_raw.csv\", gene_corr_p_df, delimiter=\",\")"
   ]
  },
  {
   "cell_type": "code",
   "execution_count": 12,
   "metadata": {
    "collapsed": true
   },
   "outputs": [],
   "source": [
    "np.savetxt(\"gene_names.csv\", gene_cols, delimiter=\",\", fmt = '%s')"
   ]
  },
  {
   "cell_type": "code",
   "execution_count": 13,
   "metadata": {},
   "outputs": [
    {
     "data": {
      "image/png": "[encoded data removed]",
      "text/plain": [
       "<matplotlib.figure.Figure at 0x11ec81c50>"
      ]
     },
     "metadata": {},
     "output_type": "display_data"
    }
   ],
   "source": [
    "plt.hist(backup_corr)\n",
    "plt.xlabel('Standard Deviation of Correlation')\n",
    "plt.ylabel('Frequency')\n",
    "plt.title('Correlations of Genes')\n",
    "plt.show()"
   ]
  },
  {
   "cell_type": "code",
   "execution_count": null,
   "metadata": {
    "collapsed": true
   },
   "outputs": [],
   "source": []
  }
 ],
 "metadata": {
  "kernelspec": {
   "display_name": "Python 3",
   "language": "python",
   "name": "python3"
  },
  "language_info": {
   "codemirror_mode": {
    "name": "ipython",
    "version": 3
   },
   "file_extension": ".py",
   "mimetype": "text/x-python",
   "name": "python",
   "nbconvert_exporter": "python",
   "pygments_lexer": "ipython3",
   "version": "3.6.1"
  }
 },
 "nbformat": 4,
 "nbformat_minor": 2
}
