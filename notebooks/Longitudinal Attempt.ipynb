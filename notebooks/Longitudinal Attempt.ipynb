{
 "cells": [
  {
   "cell_type": "code",
   "execution_count": 1,
   "metadata": {},
   "outputs": [
    {
     "name": "stdout",
     "output_type": "stream",
     "text": [
      "/Users/Leah/Desktop/CS109/Data\n"
     ]
    }
   ],
   "source": [
    "cd ~/Desktop/CS109/Data"
   ]
  },
  {
   "cell_type": "code",
   "execution_count": 2,
   "metadata": {},
   "outputs": [
    {
     "name": "stderr",
     "output_type": "stream",
     "text": [
      "/anaconda/lib/python3.6/site-packages/statsmodels/compat/pandas.py:56: FutureWarning: The pandas.core.datetools module is deprecated and will be removed in a future version. Please use the pandas.tseries module instead.\n",
      "  from pandas.core import datetools\n"
     ]
    }
   ],
   "source": [
    "%matplotlib inline\n",
    "import pandas as pd\n",
    "import numpy as np\n",
    "import matplotlib.pyplot as plt\n",
    "import sys\n",
    "from sklearn.metrics import accuracy_score\n",
    "from numpy.random import randint\n",
    "import sklearn.metrics as metrics\n",
    "from sklearn.preprocessing import PolynomialFeatures\n",
    "from sklearn.decomposition import PCA\n",
    "from collections import OrderedDict\n",
    "from sklearn.ensemble import GradientBoostingClassifier\n",
    "from sklearn.model_selection import GridSearchCV\n",
    "import statsmodels.api as sm\n",
    "from statsmodels.api import OLS\n",
    "from sklearn.metrics import r2_score\n",
    "\n",
    "from my_functions import for_loop_status\n",
    "from my_functions import for_loop_status2"
   ]
  },
  {
   "cell_type": "code",
   "execution_count": 3,
   "metadata": {},
   "outputs": [
    {
     "data": {
      "text/plain": [
       "(0.29874232067403128, -0.019842587361204478)"
      ]
     },
     "execution_count": 3,
     "metadata": {},
     "output_type": "execute_result"
    }
   ],
   "source": [
    "# import data\n",
    "gene_corr_base = pd.read_csv('gene_corr_base.csv', index_col = None, header=None)\n",
    "gene_corr_cut = pd.read_csv('gene_corr_cut.csv', index_col = None, header=None)\n",
    "gene_corr_p = pd.read_csv('gene_corr_p.csv', index_col = None, header=None)\n",
    "gene_names = pd.read_csv('gene_names.csv', index_col = None, header=None)\n",
    "df_full = pd.read_csv('post_imputation.csv', index_col = 0)\n",
    "# drop rows where response variable is NaN\n",
    "df_full = df_full[np.isfinite(df_full['DX_Final_Rate'])]\n",
    "\n",
    "# make correlations dataframe\n",
    "corrs_df = pd.DataFrame()\n",
    "corrs_df['Gene_Name'] = gene_names[0]\n",
    "corrs_df['Base'] = gene_corr_base[0]/14\n",
    "corrs_df['Cut'] = gene_corr_cut[0]/14\n",
    "corrs_df['p'] = gene_corr_p[0]/14\n",
    "\n",
    "# choose most significant genes\n",
    "Used = corrs_df[corrs_df.p < 0.01]\n",
    "used_genes = list(Used.Gene_Name.values)\n",
    "\n",
    "# just gene expression data\n",
    "X_full = df_full[used_genes]\n",
    "y_full = df_full['DX_Final_Rate']\n",
    "\n",
    "# get polynomial terms up to degree 3, since that is computationally feasible\n",
    "gen_poly_terms = PolynomialFeatures(degree=3, interaction_only=False)\n",
    "X_full_with_poly = gen_poly_terms.fit_transform(X_full)\n",
    "\n",
    "# split into train and test\n",
    "np.random.seed(9001)\n",
    "msk = np.random.rand(len(X_full)) < 0.5\n",
    "X_train = X_full[msk]\n",
    "X_test = X_full[~msk]\n",
    "y_train = y_full[msk]\n",
    "y_test = y_full[~msk]\n",
    "\n",
    "# PCA with all components\n",
    "pca_full_fit = PCA()\n",
    "pca_full = {}\n",
    "pca_full['X_train'] = pca_full_fit.fit_transform(X_train)\n",
    "\n",
    "# find number of components that explain 90% of predictor variance\n",
    "n_components = (np.argwhere((np.cumsum(pca_full_fit.explained_variance_ratio_)) > 0.9)[0] + 1)[0]\n",
    "\n",
    "# PCA with 90% of variance explained\n",
    "pca90 = {}\n",
    "pca90_fit = PCA(n_components)\n",
    "pca90_fit.fit(X_train)\n",
    "X_train = pca90_fit.transform(X_train)\n",
    "X_test = pca90_fit.transform(X_test)\n",
    "\n",
    "# fit linear regression model\n",
    "X_train = sm.add_constant(X_train)\n",
    "X_test = sm.add_constant(X_test)\n",
    "model = sm.OLS(y_train, X_train).fit()\n",
    "y_train_pred = model.predict(X_train)\n",
    "y_test_pred = model.predict(X_test)\n",
    "y_train_r2 = r2_score(y_train, y_train_pred)\n",
    "y_test_r2 = r2_score(y_test, y_test_pred)\n",
    "y_train_r2, y_test_r2"
   ]
  }
 ],
 "metadata": {
  "kernelspec": {
   "display_name": "Python 3",
   "language": "python",
   "name": "python3"
  },
  "language_info": {
   "codemirror_mode": {
    "name": "ipython",
    "version": 3
   },
   "file_extension": ".py",
   "mimetype": "text/x-python",
   "name": "python",
   "nbconvert_exporter": "python",
   "pygments_lexer": "ipython3",
   "version": "3.6.1"
  }
 },
 "nbformat": 4,
 "nbformat_minor": 2
}
